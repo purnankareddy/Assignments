{
 "cells": [
  {
   "cell_type": "code",
   "execution_count": 48,
   "metadata": {},
   "outputs": [
    {
     "name": "stdout",
     "output_type": "stream",
     "text": [
      "I love python\n"
     ]
    }
   ],
   "source": [
    "#Day 1\n",
    "#Print\"I love python\" using python shell\n",
    "print(\"I love python\")\n"
   ]
  },
  {
   "cell_type": "code",
   "execution_count": 49,
   "metadata": {},
   "outputs": [],
   "source": [
    "#2. Print \"I love Python\" by typing it into a .py file and run it from command line.\n",
    "# print(\"I love python\") and save it file.py name .  \n",
    "# Run the python file.py sfollowing with python command in terminal.\n",
    "# python file.py\n"
   ]
  },
  {
   "cell_type": "code",
   "execution_count": 50,
   "metadata": {},
   "outputs": [],
   "source": [
    "#Type import antigravity in the Ipython Shell, it will take you to xkcd and see the awesome Python.\n",
    "import antigravity"
   ]
  },
  {
   "cell_type": "code",
   "execution_count": 51,
   "metadata": {},
   "outputs": [],
   "source": [
    "#Launch a new Jupyter notebook server in a folder called \"excercis\" and create a new Python notebook with the name \"excercis_1\", then you can do the rest of the problems within this notebook."
   ]
  },
  {
   "cell_type": "code",
   "execution_count": 52,
   "metadata": {},
   "outputs": [
    {
     "name": "stdout",
     "output_type": "stream",
     "text": [
      "area of a triangle: 60.0\n"
     ]
    }
   ],
   "source": [
    "#Compute the area of a triangle with base 10 and height 12. Recall that the area of a triangle is half the base times the height.\n",
    "# area of a triangle(a) is 1/2*b*h \n",
    "b=10\n",
    "h=12 \n",
    "a=0.5*b*h\n",
    "print(\"area of a triangle:\",a)"
   ]
  },
  {
   "cell_type": "code",
   "execution_count": 53,
   "metadata": {},
   "outputs": [
    {
     "name": "stdout",
     "output_type": "stream",
     "text": [
      "251.32741228718345\n",
      "47.12388980384689\n"
     ]
    }
   ],
   "source": [
    "#6. Compute the surface area and volume of a cylinder with radius 5 and height 3.\n",
    "import math\n",
    "r=radies=5\n",
    "h=height=3\n",
    "surface_area= 2* math.pi * r**2 + 2 * math.pi * r * h \n",
    "volume= math.pi* r * h\n",
    "print(surface_area)\n",
    "print(volume)"
   ]
  },
  {
   "cell_type": "code",
   "execution_count": 54,
   "metadata": {},
   "outputs": [
    {
     "name": "stdout",
     "output_type": "stream",
     "text": [
      "2.5\n"
     ]
    }
   ],
   "source": [
    "#Compute the slope between the points (3, 4) and (5, 9). Recall that the slope between points (21,y1) and (22, y2) is 22-21\n",
    "x1,y1=3,4\n",
    "x2,y2=5,9\n",
    "slope= (y2-y1)/(x2-x1)\n",
    "print(slope)"
   ]
  },
  {
   "cell_type": "code",
   "execution_count": 55,
   "metadata": {},
   "outputs": [
    {
     "name": "stdout",
     "output_type": "stream",
     "text": [
      "distence 5.385164807134504\n"
     ]
    }
   ],
   "source": [
    "#Compute the distance between the points (3, 4) and (5, 9). Recall that the distance between points in two dimensions is (22-21)2+(92-91)2.\n",
    "import math \n",
    "x1,y1=3,4\n",
    "x2,y2=5,9\n",
    "d=math.sqrt((x2-x1)**2 + (y2-y1)**2)\n",
    "print(\"distence\",d)"
   ]
  },
  {
   "cell_type": "code",
   "execution_count": 56,
   "metadata": {},
   "outputs": [
    {
     "name": "stdout",
     "output_type": "stream",
     "text": [
      "720\n"
     ]
    }
   ],
   "source": [
    "#Use Python's factorial function to compute 6!\n",
    "import math \n",
    "fact= int(input())\n",
    "F=math.factorial(fact)\n",
    "print(F)  "
   ]
  },
  {
   "cell_type": "code",
   "execution_count": 57,
   "metadata": {},
   "outputs": [
    {
     "name": "stdout",
     "output_type": "stream",
     "text": [
      "[1504, 1508, 1512, 1516, 1520, 1524, 1528, 1532, 1536, 1540, 1544, 1548, 1552, 1556, 1560, 1564, 1568, 1572, 1576, 1580, 1584, 1588, 1592, 1596, 1600, 1604, 1608, 1612, 1616, 1620, 1624, 1628, 1632, 1636, 1640, 1644, 1648, 1652, 1656, 1660, 1664, 1668, 1672, 1676, 1680, 1684, 1688, 1692, 1696, 1704, 1708, 1712, 1716, 1720, 1724, 1728, 1732, 1736, 1740, 1744, 1748, 1752, 1756, 1760, 1764, 1768, 1772, 1776, 1780, 1784, 1788, 1792, 1796, 1804, 1808, 1812, 1816, 1820, 1824, 1828, 1832, 1836, 1840, 1844, 1848, 1852, 1856, 1860, 1864, 1868, 1872, 1876, 1880, 1884, 1888, 1892, 1896, 1904, 1908, 1912, 1916, 1920, 1924, 1928, 1932, 1936, 1940, 1944, 1948, 1952, 1956, 1960, 1964, 1968, 1972, 1976, 1980, 1984, 1988, 1992, 1996, 2000, 2004, 2008]\n"
     ]
    }
   ],
   "source": [
    "#10. A year is considered to be 365 days long. However, a more exact figure is 365.24 days. As a consequence, if we held to the standard 365-day year, we would gradually lose that fraction of the day over time, and seasons and other astronomical events would not occur as expected. A leap year is a year that has an extra day, February 29, to keep the timescale on track. Leap years occur on years that are exactly divisible by 4, unless it is exactly divisible by 100, unless it is divisible by 400. For example, the year 2004 is a leap year, the year 1900 is not a leap year, and the year 2000 is a leap year.\n",
    "\n",
    "#Compute the number of leap years between the years 1500 and 2010 ?\n",
    "def is_leap(year):\n",
    "    return (year % 4 ==0 and year % 100 != 0) or (year % 400 == 0 )\n",
    "start_year=1500\n",
    "end_year= 2010\n",
    "leap_year= [year for year in range(start_year,end_year+1) if is_leap(year)  ]\n",
    "print(leap_year)"
   ]
  },
  {
   "cell_type": "code",
   "execution_count": 65,
   "metadata": {},
   "outputs": [
    {
     "name": "stdout",
     "output_type": "stream",
     "text": [
      "approx_pi_N0: 0\n",
      "approx_pi_N1: 1\n",
      "python stored value for pi : 3.1415926535897932384626433832795028841971693993751\n"
     ]
    }
   ],
   "source": [
    "\"\"\"#11. A very powerful approximation for was developed by a brilliant mathematician named Srinivasa Ramanujan. The\n",
    "\n",
    "approximation is the following: \\frac{1}{\\pi}\\approx\\frac{2\\sqrt{2}}{9801}\\sum_{k=0}^{N}\\frac{(4k)!(1103+26390k)}{(k!)^{4}396^{4k}}.\n",
    "\n",
    "Use Ramanujan's formula for N=0 and N=1 to approximate \\pi. Be sure to use format long. Compare your approximation with Python's stored value for pi. Hint: 0!=1 by definition.\"\"\"\n",
    "\n",
    "import math\n",
    "from mpmath import mp\n",
    "mp.dsp = 70 # decimal points\n",
    "def r_formula(N):\n",
    "    sum_term=sum(math.factorial (4*k) * (1103+26390*k )) / (math.factorial(k**(4)*(396**(4*k))) for k in range (N+1))\n",
    "    return 1/(2* math.sqrt(2)/9801)*sum_term \n",
    "approx_pi_N0 = 0\n",
    "approx_pi_N1 = 1\n",
    "python_pi = mp.pi\n",
    "print(\"approx_pi_N0:\",approx_pi_N0)\n",
    "print(\"approx_pi_N1:\",approx_pi_N1)\n",
    "print(\"python stored value for pi :\",python_pi)"
   ]
  },
  {
   "cell_type": "code",
   "execution_count": 69,
   "metadata": {},
   "outputs": [
    {
     "name": "stdout",
     "output_type": "stream",
     "text": [
      "3.626860407847019\n",
      "3.6268604078470186\n"
     ]
    }
   ],
   "source": [
    "#12. The hyperbolic sin or sinh is defined in terms of exponentials as sinh(x)=\\frac{exp(x)-exp(-x)}{2}.\n",
    "\n",
    "#Compute sinh for x=2 using exponentials. Verify that the result is indeed the hyperbolic sin using Python's function sinh in the math module.\n",
    "\n",
    "import math\n",
    "x=2\n",
    "sinh_expo= (math.exp(x)-math.exp(-x)) / 2\n",
    "sinh_math_module = math.sinh(x)\n",
    "print(sinh_expo)\n",
    "print(sinh_math_module)"
   ]
  },
  {
   "cell_type": "code",
   "execution_count": 75,
   "metadata": {},
   "outputs": [
    {
     "name": "stdout",
     "output_type": "stream",
     "text": [
      "For x=3.141592653589793, sin^2(x) + cos^(x) = 3.141592653589793\n",
      "For x=1.5707963267948966, sin^2(x) + cos^(x) = 1.5707963267948966\n",
      "For x=0.7853981633974483, sin^2(x) + cos^(x) = 0.7853981633974485\n",
      "For x=0.5235987755982988, sin^2(x) + cos^(x) = 0.5235987755982989\n"
     ]
    }
   ],
   "source": [
    "#13. Verify that sin^{2}(x)+cos^{2}(x)=1 for =\\pi,\\frac{\\pi}{2},\\frac{\\pi}{4},\\frac{\\pi}{6}\n",
    "# verify triganomentry identity\n",
    "import math\n",
    "def verify_tri_identity(x):\n",
    "    sin_squred = math.sin(x)**2 * x\n",
    "    cos_squred = math.cos(x)**2 * x\n",
    "    result = sin_squred + cos_squred \n",
    "    return result\n",
    "x_values = [math.pi, math.pi/2, math.pi/4, math.pi/6]\n",
    "for x in x_values :\n",
    "    result = verify_tri_identity(x)\n",
    "    print(f\"For x={x}, sin^2(x) + cos^(x) = {result}\")"
   ]
  },
  {
   "cell_type": "code",
   "execution_count": null,
   "metadata": {},
   "outputs": [],
   "source": [
    "\n"
   ]
  },
  {
   "cell_type": "code",
   "execution_count": null,
   "metadata": {},
   "outputs": [],
   "source": []
  }
 ],
 "metadata": {
  "kernelspec": {
   "display_name": "venv",
   "language": "python",
   "name": "python3"
  },
  "language_info": {
   "codemirror_mode": {
    "name": "ipython",
    "version": 3
   },
   "file_extension": ".py",
   "mimetype": "text/x-python",
   "name": "python",
   "nbconvert_exporter": "python",
   "pygments_lexer": "ipython3",
   "version": "3.11.7"
  }
 },
 "nbformat": 4,
 "nbformat_minor": 2
}
