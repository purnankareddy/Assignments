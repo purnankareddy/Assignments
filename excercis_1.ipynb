{
 "cells": [
  {
   "cell_type": "code",
   "execution_count": 48,
   "metadata": {},
   "outputs": [
    {
     "name": "stdout",
     "output_type": "stream",
     "text": [
      "I love python\n"
     ]
    }
   ],
   "source": [
    "#Day 1\n",
    "#Print\"I love python\" using python shell\n",
    "print(\"I love python\")\n"
   ]
  },
  {
   "cell_type": "code",
   "execution_count": 49,
   "metadata": {},
   "outputs": [],
   "source": [
    "#2. Print \"I love Python\" by typing it into a .py file and run it from command line.\n",
    "# print(\"I love python\") and save it file.py name .  \n",
    "# Run the python file.py sfollowing with python command in terminal.\n",
    "# python file.py\n"
   ]
  },
  {
   "cell_type": "code",
   "execution_count": 50,
   "metadata": {},
   "outputs": [],
   "source": [
    "#Type import antigravity in the Ipython Shell, it will take you to xkcd and see the awesome Python.\n",
    "import antigravity"
   ]
  },
  {
   "cell_type": "code",
   "execution_count": 51,
   "metadata": {},
   "outputs": [],
   "source": [
    "#Launch a new Jupyter notebook server in a folder called \"excercis\" and create a new Python notebook with the name \"excercis_1\", then you can do the rest of the problems within this notebook."
   ]
  },
  {
   "cell_type": "code",
   "execution_count": 52,
   "metadata": {},
   "outputs": [
    {
     "name": "stdout",
     "output_type": "stream",
     "text": [
      "area of a triangle: 60.0\n"
     ]
    }
   ],
   "source": [
    "#Compute the area of a triangle with base 10 and height 12. Recall that the area of a triangle is half the base times the height.\n",
    "# area of a triangle(a) is 1/2*b*h \n",
    "b=10\n",
    "h=12 \n",
    "a=0.5*b*h\n",
    "print(\"area of a triangle:\",a)"
   ]
  },
  {
   "cell_type": "code",
   "execution_count": 53,
   "metadata": {},
   "outputs": [
    {
     "name": "stdout",
     "output_type": "stream",
     "text": [
      "251.32741228718345\n",
      "47.12388980384689\n"
     ]
    }
   ],
   "source": [
    "#6. Compute the surface area and volume of a cylinder with radius 5 and height 3.\n",
    "import math\n",
    "r=radies=5\n",
    "h=height=3\n",
    "surface_area= 2* math.pi * r**2 + 2 * math.pi * r * h \n",
    "volume= math.pi* r * h\n",
    "print(surface_area)\n",
    "print(volume)"
   ]
  },
  {
   "cell_type": "code",
   "execution_count": 54,
   "metadata": {},
   "outputs": [
    {
     "name": "stdout",
     "output_type": "stream",
     "text": [
      "2.5\n"
     ]
    }
   ],
   "source": [
    "#Compute the slope between the points (3, 4) and (5, 9). Recall that the slope between points (21,y1) and (22, y2) is 22-21\n",
    "x1,y1=3,4\n",
    "x2,y2=5,9\n",
    "slope= (y2-y1)/(x2-x1)\n",
    "print(slope)"
   ]
  },
  {
   "cell_type": "code",
   "execution_count": 55,
   "metadata": {},
   "outputs": [
    {
     "name": "stdout",
     "output_type": "stream",
     "text": [
      "distence 5.385164807134504\n"
     ]
    }
   ],
   "source": [
    "#Compute the distance between the points (3, 4) and (5, 9). Recall that the distance between points in two dimensions is (22-21)2+(92-91)2.\n",
    "import math \n",
    "x1,y1=3,4\n",
    "x2,y2=5,9\n",
    "d=math.sqrt((x2-x1)**2 + (y2-y1)**2)\n",
    "print(\"distence\",d)"
   ]
  },
  {
   "cell_type": "code",
   "execution_count": 56,
   "metadata": {},
   "outputs": [
    {
     "name": "stdout",
     "output_type": "stream",
     "text": [
      "720\n"
     ]
    }
   ],
   "source": [
    "#Use Python's factorial function to compute 6!\n",
    "import math \n",
    "fact= int(input())\n",
    "F=math.factorial(fact)\n",
    "print(F)  "
   ]
  },
  {
   "cell_type": "code",
   "execution_count": 57,
   "metadata": {},
   "outputs": [
    {
     "name": "stdout",
     "output_type": "stream",
     "text": [
      "[1504, 1508, 1512, 1516, 1520, 1524, 1528, 1532, 1536, 1540, 1544, 1548, 1552, 1556, 1560, 1564, 1568, 1572, 1576, 1580, 1584, 1588, 1592, 1596, 1600, 1604, 1608, 1612, 1616, 1620, 1624, 1628, 1632, 1636, 1640, 1644, 1648, 1652, 1656, 1660, 1664, 1668, 1672, 1676, 1680, 1684, 1688, 1692, 1696, 1704, 1708, 1712, 1716, 1720, 1724, 1728, 1732, 1736, 1740, 1744, 1748, 1752, 1756, 1760, 1764, 1768, 1772, 1776, 1780, 1784, 1788, 1792, 1796, 1804, 1808, 1812, 1816, 1820, 1824, 1828, 1832, 1836, 1840, 1844, 1848, 1852, 1856, 1860, 1864, 1868, 1872, 1876, 1880, 1884, 1888, 1892, 1896, 1904, 1908, 1912, 1916, 1920, 1924, 1928, 1932, 1936, 1940, 1944, 1948, 1952, 1956, 1960, 1964, 1968, 1972, 1976, 1980, 1984, 1988, 1992, 1996, 2000, 2004, 2008]\n"
     ]
    }
   ],
   "source": [
    "#10. A year is considered to be 365 days long. However, a more exact figure is 365.24 days. As a consequence, if we held to the standard 365-day year, we would gradually lose that fraction of the day over time, and seasons and other astronomical events would not occur as expected. A leap year is a year that has an extra day, February 29, to keep the timescale on track. Leap years occur on years that are exactly divisible by 4, unless it is exactly divisible by 100, unless it is divisible by 400. For example, the year 2004 is a leap year, the year 1900 is not a leap year, and the year 2000 is a leap year.\n",
    "\n",
    "#Compute the number of leap years between the years 1500 and 2010 ?\n",
    "def is_leap(year):\n",
    "    return (year % 4 ==0 and year % 100 != 0) or (year % 400 == 0 )\n",
    "start_year=1500\n",
    "end_year= 2010\n",
    "leap_year= [year for year in range(start_year,end_year+1) if is_leap(year)  ]\n",
    "print(leap_year)"
   ]
  },
  {
   "cell_type": "code",
   "execution_count": 65,
   "metadata": {},
   "outputs": [
    {
     "name": "stdout",
     "output_type": "stream",
     "text": [
      "approx_pi_N0: 0\n",
      "approx_pi_N1: 1\n",
      "python stored value for pi : 3.1415926535897932384626433832795028841971693993751\n"
     ]
    }
   ],
   "source": [
    "\"\"\"#11. A very powerful approximation for was developed by a brilliant mathematician named Srinivasa Ramanujan. The\n",
    "\n",
    "approximation is the following: \\frac{1}{\\pi}\\approx\\frac{2\\sqrt{2}}{9801}\\sum_{k=0}^{N}\\frac{(4k)!(1103+26390k)}{(k!)^{4}396^{4k}}.\n",
    "\n",
    "Use Ramanujan's formula for N=0 and N=1 to approximate \\pi. Be sure to use format long. Compare your approximation with Python's stored value for pi. Hint: 0!=1 by definition.\"\"\"\n",
    "\n",
    "import math\n",
    "from mpmath import mp\n",
    "mp.dsp = 70 # decimal points\n",
    "def r_formula(N):\n",
    "    sum_term=sum(math.factorial (4*k) * (1103+26390*k )) / (math.factorial(k**(4)*(396**(4*k))) for k in range (N+1))\n",
    "    return 1/(2* math.sqrt(2)/9801)*sum_term \n",
    "approx_pi_N0 = 0\n",
    "approx_pi_N1 = 1\n",
    "python_pi = mp.pi\n",
    "print(\"approx_pi_N0:\",approx_pi_N0)\n",
    "print(\"approx_pi_N1:\",approx_pi_N1)\n",
    "print(\"python stored value for pi :\",python_pi)"
   ]
  },
  {
   "cell_type": "code",
   "execution_count": 69,
   "metadata": {},
   "outputs": [
    {
     "name": "stdout",
     "output_type": "stream",
     "text": [
      "3.626860407847019\n",
      "3.6268604078470186\n"
     ]
    }
   ],
   "source": [
    "#12. The hyperbolic sin or sinh is defined in terms of exponentials as sinh(x)=\\frac{exp(x)-exp(-x)}{2}.\n",
    "\n",
    "#Compute sinh for x=2 using exponentials. Verify that the result is indeed the hyperbolic sin using Python's function sinh in the math module.\n",
    "\n",
    "import math\n",
    "x=2\n",
    "sinh_expo= (math.exp(x)-math.exp(-x)) / 2\n",
    "sinh_math_module = math.sinh(x)\n",
    "print(sinh_expo)\n",
    "print(sinh_math_module)"
   ]
  },
  {
   "cell_type": "code",
   "execution_count": 75,
   "metadata": {},
   "outputs": [
    {
     "name": "stdout",
     "output_type": "stream",
     "text": [
      "For x=3.141592653589793, sin^2(x) + cos^(x) = 3.141592653589793\n",
      "For x=1.5707963267948966, sin^2(x) + cos^(x) = 1.5707963267948966\n",
      "For x=0.7853981633974483, sin^2(x) + cos^(x) = 0.7853981633974485\n",
      "For x=0.5235987755982988, sin^2(x) + cos^(x) = 0.5235987755982989\n"
     ]
    }
   ],
   "source": [
    "#13. Verify that sin^{2}(x)+cos^{2}(x)=1 for =\\pi,\\frac{\\pi}{2},\\frac{\\pi}{4},\\frac{\\pi}{6}\n",
    "# verify triganomentry identity\n",
    "import math\n",
    "def verify_tri_identity(x):\n",
    "    sin_squred = math.sin(x)**2 * x\n",
    "    cos_squred = math.cos(x)**2 * x\n",
    "    result = sin_squred + cos_squred \n",
    "    return result\n",
    "x_values = [math.pi, math.pi/2, math.pi/4, math.pi/6]\n",
    "for x in x_values :\n",
    "    result = verify_tri_identity(x)\n",
    "    print(f\"For x={x}, sin^2(x) + cos^(x) = {result}\")"
   ]
  },
  {
   "cell_type": "code",
   "execution_count": 4,
   "metadata": {},
   "outputs": [
    {
     "name": "stdout",
     "output_type": "stream",
     "text": [
      "The sin( 87degress) is approx :0.9986295347545738 \n"
     ]
    }
   ],
   "source": [
    "\n",
    "# compute the sin(87∘) \n",
    "# here we can convert degrees into radians, \n",
    "#formula radians = π​/180 ×degrees\n",
    "import math\n",
    "angle_in_degress = 87\n",
    "angle_in_radians = math.radians(angle_in_degress)\n",
    "sin_value = math.sin(angle_in_radians)\n",
    "print(f\"The sin( {angle_in_degress}degress) is approx :{sin_value} \")"
   ]
  },
  {
   "cell_type": "code",
   "execution_count": 5,
   "metadata": {},
   "outputs": [
    {
     "ename": "AttributeError",
     "evalue": "module 'math' has no attribute 'sni'",
     "output_type": "error",
     "traceback": [
      "\u001b[1;31m---------------------------------------------------------------------------\u001b[0m",
      "\u001b[1;31mAttributeError\u001b[0m                            Traceback (most recent call last)",
      "Cell \u001b[1;32mIn[5], line 5\u001b[0m\n\u001b[0;32m      3\u001b[0m \u001b[38;5;66;03m#example any sample function like sin(x) x = 0\u001b[39;00m\n\u001b[0;32m      4\u001b[0m x\u001b[38;5;241m=\u001b[39m\u001b[38;5;241m0\u001b[39m\n\u001b[1;32m----> 5\u001b[0m value\u001b[38;5;241m=\u001b[39m \u001b[43mmath\u001b[49m\u001b[38;5;241;43m.\u001b[39;49m\u001b[43msni\u001b[49m(x)\n\u001b[0;32m      6\u001b[0m \u001b[38;5;28mprint\u001b[39m(value) \n",
      "\u001b[1;31mAttributeError\u001b[0m: module 'math' has no attribute 'sni'"
     ]
    }
   ],
   "source": [
    "#15. Write a Python statement that generates the following error:\"AttributeError: module 'math' has no attribute 'sni'\"Hint: sni is a misspelling of the function sin.\n",
    "import math\n",
    "#example any sample function like sin(x) x = 0\n",
    "x=0\n",
    "value= math.sni(x)\n",
    "print(value) "
   ]
  },
  {
   "cell_type": "code",
   "execution_count": 8,
   "metadata": {},
   "outputs": [
    {
     "ename": "TypeError",
     "evalue": "math.sin() takes exactly one argument (0 given)",
     "output_type": "error",
     "traceback": [
      "\u001b[1;31m---------------------------------------------------------------------------\u001b[0m",
      "\u001b[1;31mTypeError\u001b[0m                                 Traceback (most recent call last)",
      "Cell \u001b[1;32mIn[8], line 4\u001b[0m\n\u001b[0;32m      1\u001b[0m \u001b[38;5;66;03m#16. Write a Python statement that generates the following error: \"TypeError: şin() takes exactly one argument (O given)\" Hint: Input arguments refers to the input of a function (any function); for example, the input in sin(pi/2) is pi/2.\u001b[39;00m\n\u001b[0;32m      2\u001b[0m \u001b[38;5;28;01mimport\u001b[39;00m \u001b[38;5;21;01mmath\u001b[39;00m\n\u001b[1;32m----> 4\u001b[0m type_err_sin \u001b[38;5;241m=\u001b[39m \u001b[43mmath\u001b[49m\u001b[38;5;241;43m.\u001b[39;49m\u001b[43msin\u001b[49m\u001b[43m(\u001b[49m\u001b[43m)\u001b[49m\n\u001b[0;32m      5\u001b[0m \u001b[38;5;66;03m#sin(pi/2) equal to pi/2\u001b[39;00m\n\u001b[0;32m      6\u001b[0m \u001b[38;5;28mprint\u001b[39m(\u001b[38;5;124m\"\u001b[39m\u001b[38;5;124mThis line won\u001b[39m\u001b[38;5;124m'\u001b[39m\u001b[38;5;124mt be reached\u001b[39m\u001b[38;5;124m\"\u001b[39m)\n",
      "\u001b[1;31mTypeError\u001b[0m: math.sin() takes exactly one argument (0 given)"
     ]
    }
   ],
   "source": [
    "#16. Write a Python statement that generates the following error: \"TypeError: şin() takes exactly one argument (O given)\" Hint: Input arguments refers to the input of a function (any function); for example, the input in sin(pi/2) is pi/2.\n",
    "import math\n",
    "\n",
    "type_err_sin = math.sin()\n",
    "#sin(pi/2) equal to pi/2\n",
    "print(\"This line won't be reached\")"
   ]
  },
  {
   "cell_type": "code",
   "execution_count": 12,
   "metadata": {},
   "outputs": [
    {
     "name": "stdout",
     "output_type": "stream",
     "text": [
      "P and Not P is  False\n",
      "p and not p is:  False\n"
     ]
    }
   ],
   "source": [
    "#If P is a logical expression, the law of noncontradiction states that P AND (NOT P) is always false. Verify this for P true and P false.\n",
    "P_True = True\n",
    "result_true = P_True and not P_True\n",
    "print(f\"P and Not P is \",result_true) \n",
    "P_Flase =False\n",
    "result_False= P_Flase and not P_Flase\n",
    "print(f\"p and not p is: \", result_False)"
   ]
  },
  {
   "cell_type": "code",
   "execution_count": 15,
   "metadata": {},
   "outputs": [
    {
     "name": "stdout",
     "output_type": "stream",
     "text": [
      "| P | Q | NOT (P OR Q) | (NOT P) AND (NOT Q) | NOT (P AND Q) | (NOT P) OR (NOT Q) |\n",
      "|---|---|-------------|---------------------|--------------|---------------------|\n",
      "| 1 | 1 | 0 | 0 | 0 | 0 |\n",
      "| 1 | 0 | 0 | 0 | 1 | 1 |\n",
      "| 0 | 1 | 0 | 0 | 1 | 1 |\n",
      "| 0 | 0 | 1 | 1 | 1 | 1 |\n"
     ]
    }
   ],
   "source": [
    "#Let P and Q be logical expressions. De Morgan's rule states that NOT (PORQ) = (NOT P) AND (NOT Q) and NOT (P AND Q) = (NOT P) OR (NOT Q). Generate the truth tables for each statement to show that De Morgan's rule is always true.\n",
    "def apply_de_morgans_laws(P, Q):\n",
    "    # De Morgan's First Law\n",
    "    not_P_or_Q = not (P or Q)\n",
    "    not_P_and_not_Q = (not P) and (not Q)\n",
    "\n",
    "    # De Morgan's Second Law\n",
    "    not_P_and_Q = not (P and Q)\n",
    "    not_P_or_not_Q = (not P) or (not Q)\n",
    "\n",
    "    # Return the results\n",
    "    return not_P_or_Q, not_P_and_not_Q, not_P_and_Q, not_P_or_not_Q\n",
    "\n",
    "def print_truth_table():\n",
    "    # Print header\n",
    "    print(\"| P | Q | NOT (P OR Q) | (NOT P) AND (NOT Q) | NOT (P AND Q) | (NOT P) OR (NOT Q) |\")\n",
    "    print(\"|---|---|-------------|---------------------|--------------|---------------------|\")\n",
    "\n",
    "    # Generate and print rows for all possible combinations of P and Q\n",
    "    for P in [True, False]:\n",
    "        for Q in [True, False]:\n",
    "            results = apply_de_morgans_laws(P, Q)\n",
    "            print(f\"| {int(P)} | {int(Q)} | {int(results[0])} | {int(results[1])} | {int(results[2])} | {int(results[3])} |\")\n",
    "\n",
    "if __name__ == \"__main__\":\n",
    "    print_truth_table()\n"
   ]
  },
  {
   "cell_type": "code",
   "execution_count": 22,
   "metadata": {},
   "outputs": [
    {
     "name": "stdout",
     "output_type": "stream",
     "text": [
      "| p | q | (P AND Q) OR (P AND (NOT Q)) |\n",
      "|---|---|------------------------------|\n",
      "| 1 | 1 | 1 |\n",
      "| 1 | 0 | 1 |\n",
      "| 0 | 1 | 0 |\n",
      "| 0 | 0 | 0 |\n"
     ]
    }
   ],
   "source": [
    "#Under what conditions for P and Q is (P AND Q) OR (P AND (NOT Q)) false?\n",
    "def find_condition_for_flase():\n",
    "    print(\"| p | q | (P AND Q) OR (P AND (NOT Q)) |\")\n",
    "    print(\"|---|---|------------------------------|\")\n",
    "    for p in (True, False) :\n",
    "        for q in (True,False) :\n",
    "            result = (p and q) or (p and (not q))\n",
    "            print(f\"| {int(p)} | {int(q)} | {int(result)} |\")\n",
    "if __name__==\"__main__\" :\n",
    "    find_condition_for_flase()\n",
    "         "
   ]
  },
  {
   "cell_type": "code",
   "execution_count": 27,
   "metadata": {},
   "outputs": [
    {
     "name": "stdout",
     "output_type": "stream",
     "text": [
      "| p | q | not (not p and not q) |\n",
      "|---|---|------------------------\n",
      "| 1 | 1 |   1   |            1           |\n",
      "| 1 | 0 |   1   |            1           |\n",
      "| 0 | 1 |   1   |            1           |\n",
      "| 0 | 0 |   0   |            0           |\n"
     ]
    }
   ],
   "source": [
    "#Construct an equivalent logical expression for OR using only AND and NOT. \n",
    "# P∨Q≡¬(¬P∧¬Q)\n",
    "def logical_equivalent_or(p,q):\n",
    "    result_or = p or q \n",
    "    result_and_not_and_not= not (not p and not q ) \n",
    "    return result_or , result_and_not_and_not\n",
    "if __name__ == \"__main__\" :\n",
    "    print(\"| p | q | not (not p and not q) |\")\n",
    "    print(\"|---|---|------------------------\")\n",
    "    for p in (True, False):\n",
    "        for q in (True, False):\n",
    "            result_or, result_and_not_and_not = logical_equivalent_or(p,q) \n",
    "            print(f\"| {int(p)} | {int(q)} |   {int(result_or)}   |            {int(result_and_not_and_not)}           |\")"
   ]
  },
  {
   "cell_type": "code",
   "execution_count": 34,
   "metadata": {},
   "outputs": [
    {
     "name": "stdout",
     "output_type": "stream",
     "text": [
      "| p | q | p and q | not(not p or not q )\n",
      "|---|---|---------|--------------------|\n",
      "| 1 | 1 |    1    |           1           |\n",
      "| 1 | 0 |    0    |           0           |\n",
      "| 0 | 1 |    0    |           0           |\n",
      "| 0 | 0 |    0    |           0           |\n"
     ]
    }
   ],
   "source": [
    "#21. Construct an equivalent logical expression for AND using only OR and NOT.\n",
    "## P∧Q≡¬(¬P∨¬Q)\n",
    "def logical_and_equivalent(p,q):\n",
    "    result_and = p and q\n",
    "    result_not_or_not= not (not p or not q)\n",
    "    return result_and ,result_not_or_not\n",
    "\n",
    "if __name__ == \"__main__\":\n",
    "    print(\"| p | q | p and q | not(not p or not q )\")\n",
    "    print(\"|---|---|---------|--------------------|\")\n",
    "\n",
    "    for p in (True, False):\n",
    "        for q in (True, False):\n",
    "            result_and , result_not_or_not = logical_and_equivalent(p,q)\n",
    "            print(f\"| {int(p)} | {int(q)} |    {int(result_and)}    |           {int(result_not_or_not)}           |\")\n",
    "\n",
    "\n"
   ]
  },
  {
   "cell_type": "code",
   "execution_count": 36,
   "metadata": {},
   "outputs": [
    {
     "name": "stdout",
     "output_type": "stream",
     "text": [
      "-123.96764213923386\n"
     ]
    }
   ],
   "source": [
    "#22. The logical operator XOR has the following truth table: Construct an equivalent logical expression for XOR using only AND, OR, and NOT that has the same truth table (see the following figure)\n",
    "#1. Do the following calculation at the Python command prompt. e2 (sin pi/6+ log (3) cos π/9 – 5 power 3.\n",
    "import math\n",
    "result = math.exp(2) * math.sin(math.pi)/6 + math.log(3) * math.cos(math.pi/9) - 5**3\n",
    "print(result)"
   ]
  },
  {
   "cell_type": "code",
   "execution_count": 42,
   "metadata": {},
   "outputs": [
    {
     "name": "stdout",
     "output_type": "stream",
     "text": [
      "False\n"
     ]
    }
   ],
   "source": [
    "#2. Do the following logical and comparison operations at the Python command prompt. You may assume that P and Q are logical expressions.\n",
    "\n",
    "#For P = 1 and Q = 1; Compute NOT(P) AND NOT(Q).\n",
    "\n",
    "p,q = True,True\n",
    "result = (not p) and (not q)\n",
    "print(result)\n"
   ]
  },
  {
   "cell_type": "code",
   "execution_count": 41,
   "metadata": {},
   "outputs": [
    {
     "name": "stdout",
     "output_type": "stream",
     "text": [
      "False\n"
     ]
    }
   ],
   "source": [
    "#For a = 10 and b = 25; Compute (a<b) AND (a = b).\n",
    "a,b = 10,25\n",
    "\n",
    "result= (a < b) and (a == b )\n",
    "print(result)"
   ]
  },
  {
   "cell_type": "code",
   "execution_count": null,
   "metadata": {},
   "outputs": [],
   "source": []
  }
 ],
 "metadata": {
  "kernelspec": {
   "display_name": "venv",
   "language": "python",
   "name": "python3"
  },
  "language_info": {
   "codemirror_mode": {
    "name": "ipython",
    "version": 3
   },
   "file_extension": ".py",
   "mimetype": "text/x-python",
   "name": "python",
   "nbconvert_exporter": "python",
   "pygments_lexer": "ipython3",
   "version": "3.11.7"
  }
 },
 "nbformat": 4,
 "nbformat_minor": 2
}
